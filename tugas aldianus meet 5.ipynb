{
 "cells": [
  {
   "cell_type": "code",
   "execution_count": 1,
   "metadata": {},
   "outputs": [
    {
     "name": "stdout",
     "output_type": "stream",
     "text": [
      "Masukan Celcius 50\n",
      "Maka nilai fahrenheit adalah  122.0\n",
      "Maka nilai reamur adalah  40.0\n"
     ]
    }
   ],
   "source": [
    "#fahrenheit\n",
    "c = float(input(\"Masukan Celcius \"))\n",
    "f = 9/5 * c + 32\n",
    "print(\"Maka nilai fahrenheit adalah \", f)\n",
    "#reamur\n",
    "r = 4/5 * c\n",
    "print(\"Maka nilai reamur adalah \", r)"
   ]
  },
  {
   "cell_type": "code",
   "execution_count": 5,
   "metadata": {},
   "outputs": [
    {
     "ename": "SyntaxError",
     "evalue": "invalid syntax (<ipython-input-5-db446e1c0507>, line 14)",
     "output_type": "error",
     "traceback": [
      "\u001b[1;36m  File \u001b[1;32m\"<ipython-input-5-db446e1c0507>\"\u001b[1;36m, line \u001b[1;32m14\u001b[0m\n\u001b[1;33m    Masukkan detik 10000\u001b[0m\n\u001b[1;37m             ^\u001b[0m\n\u001b[1;31mSyntaxError\u001b[0m\u001b[1;31m:\u001b[0m invalid syntax\n"
     ]
    }
   ],
   "source": [
    "#input total detik\n",
    "totaldetik = int(input(\"Masukkan detik \"))\n",
    "\n",
    "# melakukan konversi\n",
    "hari = totaldetik//86400\n",
    "sisadetik = totaldetik - 86400*hari\n",
    "jam = sisadetik//3600\n",
    "menit = sisadetik//60\n",
    "detik = sisadetik//1\n",
    "\n",
    "# menampilkan hasil konversi\n",
    "print(\"%d hari %d jam %d menit %d detik \"%(hari,jam,menit,detik))\n",
    "\n",
    "Masukkan detik 10000\n",
    "0 hari 2 jam 166 menit 10000 detik"
   ]
  },
  {
   "cell_type": "code",
   "execution_count": 7,
   "metadata": {},
   "outputs": [
    {
     "name": "stdout",
     "output_type": "stream",
     "text": [
      "Masukan detik 10000\n",
      "0 hari 2 jam 166 menit 10000 detik \n"
     ]
    }
   ],
   "source": [
    "#input total detik\n",
    "totaldetik = int(input(\"Masukan detik \"))\n",
    "\n",
    "# melakukan konversi\n",
    "hari = totaldetik//86400\n",
    "sisadetik = totaldetik - 86400*hari\n",
    "jam = sisadetik//3600\n",
    "menit = sisadetik//60\n",
    "detik = sisadetik//1\n",
    "\n",
    "# menampilkan hasil konversi\n",
    "print(\"%d hari %d jam %d menit %d detik \"%(hari,jam,menit,detik))\n"
   ]
  },
  {
   "cell_type": "code",
   "execution_count": null,
   "metadata": {},
   "outputs": [],
   "source": []
  }
 ],
 "metadata": {
  "kernelspec": {
   "display_name": "Python 3",
   "language": "python",
   "name": "python3"
  },
  "language_info": {
   "codemirror_mode": {
    "name": "ipython",
    "version": 3
   },
   "file_extension": ".py",
   "mimetype": "text/x-python",
   "name": "python",
   "nbconvert_exporter": "python",
   "pygments_lexer": "ipython3",
   "version": "3.8.5"
  }
 },
 "nbformat": 4,
 "nbformat_minor": 4
}
